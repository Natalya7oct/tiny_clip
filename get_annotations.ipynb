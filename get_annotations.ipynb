{
 "cells": [
  {
   "cell_type": "code",
   "execution_count": null,
   "metadata": {},
   "outputs": [],
   "source": [
    "pip install pycocotools"
   ]
  },
  {
   "cell_type": "code",
   "execution_count": 1,
   "metadata": {},
   "outputs": [],
   "source": [
    "from pycocotools.coco import COCO\n",
    "import sys\n",
    "import pandas as pd"
   ]
  },
  {
   "cell_type": "code",
   "execution_count": 2,
   "metadata": {},
   "outputs": [],
   "source": [
    "ann_file_train = \"./coco/annotations/captions_train2017.json\"\n",
    "ann_file_val = \"./coco/annotations/captions_val2017.json\""
   ]
  },
  {
   "cell_type": "code",
   "execution_count": 3,
   "metadata": {},
   "outputs": [],
   "source": [
    "def get_annotations(file):\n",
    "    coco = COCO(file)\n",
    "    ann_ids = coco.getAnnIds(iscrowd=None)\n",
    "    all_ann = coco.loadAnns(ann_ids)\n",
    "\n",
    "    list_image_id = []\n",
    "    list_id = []\n",
    "    list_caption = []\n",
    "\n",
    "    for i in range(0, len(all_ann)):\n",
    "        list_image_id.append(all_ann[i]['image_id'])\n",
    "        list_id.append(all_ann[i]['id'])\n",
    "        list_caption.append(all_ann[i]['caption'])\n",
    "\n",
    "    annotations = pd.DataFrame()\n",
    "    annotations['image_id'] = list_image_id\n",
    "    annotations['id'] = list_id\n",
    "    annotations['caption'] = list_caption\n",
    "\n",
    "    return annotations"
   ]
  },
  {
   "cell_type": "code",
   "execution_count": 5,
   "metadata": {},
   "outputs": [
    {
     "name": "stdout",
     "output_type": "stream",
     "text": [
      "loading annotations into memory...\n",
      "Done (t=0.67s)\n",
      "creating index...\n",
      "index created!\n"
     ]
    }
   ],
   "source": [
    "train_annotations = get_annotations(ann_file_train)\n",
    "train_annotations.to_csv(\"train_annotations.csv\")"
   ]
  },
  {
   "cell_type": "code",
   "execution_count": 6,
   "metadata": {},
   "outputs": [
    {
     "name": "stdout",
     "output_type": "stream",
     "text": [
      "loading annotations into memory...\n",
      "Done (t=0.12s)\n",
      "creating index...\n",
      "index created!\n"
     ]
    }
   ],
   "source": [
    "val_annotations = get_annotations(ann_file_val)\n",
    "val_annotations.to_csv(\"val_annotations.csv\")"
   ]
  }
 ],
 "metadata": {
  "kernelspec": {
   "display_name": "Python 3",
   "language": "python",
   "name": "python3"
  },
  "language_info": {
   "codemirror_mode": {
    "name": "ipython",
    "version": 3
   },
   "file_extension": ".py",
   "mimetype": "text/x-python",
   "name": "python",
   "nbconvert_exporter": "python",
   "pygments_lexer": "ipython3",
   "version": "3.10.6"
  },
  "orig_nbformat": 4
 },
 "nbformat": 4,
 "nbformat_minor": 2
}
