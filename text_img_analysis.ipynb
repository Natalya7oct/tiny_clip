{
 "cells": [
  {
   "cell_type": "code",
   "execution_count": 35,
   "metadata": {},
   "outputs": [],
   "source": [
    "import pandas as pd\n",
    "from sklearn.metrics.pairwise import cosine_distances"
   ]
  },
  {
   "cell_type": "code",
   "execution_count": 17,
   "metadata": {},
   "outputs": [],
   "source": [
    "clip_img = pd.read_parquet(path = './img_encodings/clip/train_img_encodings_clip_0.parquet')\n",
    "vgg19 = pd.read_parquet(path = './img_encodings/vgg19/train_img_encodings_vgg19_0.parquet')"
   ]
  },
  {
   "cell_type": "code",
   "execution_count": 18,
   "metadata": {},
   "outputs": [
    {
     "name": "stdout",
     "output_type": "stream",
     "text": [
      "3.950761\n",
      "-9.064992\n",
      "(1000, 513)\n"
     ]
    }
   ],
   "source": [
    "print(clip_img.iloc [:, 0:512].max().max())\n",
    "print(clip_img.iloc [:, 0:512].min().min())\n",
    "print(clip_img.shape)"
   ]
  },
  {
   "cell_type": "code",
   "execution_count": 12,
   "metadata": {},
   "outputs": [
    {
     "name": "stdout",
     "output_type": "stream",
     "text": [
      "106.90817260742188\n",
      "0.0\n",
      "(1000, 513)\n"
     ]
    }
   ],
   "source": [
    "print(vgg19.iloc [:, 0:512].max().max())\n",
    "print(vgg19.iloc [:, 0:512].min().min())\n",
    "print(vgg19.shape)"
   ]
  },
  {
   "cell_type": "code",
   "execution_count": 31,
   "metadata": {},
   "outputs": [],
   "source": [
    "clip_text = pd.read_parquet(path = './text_encodings/clip_ViT_B_32/train_text_encodings_clip_ViT_B_32_0.parquet')\n",
    "universal = pd.read_parquet(path = './text_encodings/universal_sentence_encoder/train_text_encodings_universal_sentence_encoder_0.parquet')"
   ]
  },
  {
   "cell_type": "code",
   "execution_count": 7,
   "metadata": {},
   "outputs": [
    {
     "name": "stdout",
     "output_type": "stream",
     "text": [
      "8.4834385\n",
      "-4.411825\n",
      "(5002, 514)\n"
     ]
    }
   ],
   "source": [
    "print(clip_text.iloc [:, 0:512].max().max())\n",
    "print(clip_text.iloc [:, 0:512].min().min())\n",
    "print(clip_text.shape)\n"
   ]
  },
  {
   "cell_type": "code",
   "execution_count": 8,
   "metadata": {},
   "outputs": [
    {
     "name": "stdout",
     "output_type": "stream",
     "text": [
      "0.13722336\n",
      "-0.12813492\n",
      "(5002, 514)\n"
     ]
    }
   ],
   "source": [
    "print(universal.iloc [:, 0:512].max().max())\n",
    "print(universal.iloc [:, 0:512].min().min())\n",
    "print(universal.shape)\n"
   ]
  },
  {
   "cell_type": "code",
   "execution_count": null,
   "metadata": {},
   "outputs": [],
   "source": [
    "X = np.array(clip_img.iloc [:, 0:512])\n",
    "Y = np.array(clip_text.iloc [:, 0:512])\n",
    "clip_cosine_distances_clip = pd.DataFrame(cosine_distances(X, Y))\n",
    "clip_cosine_distances_clip.columns = clip_text['img']\n",
    "clip_cosine_distances_clip['img'] = clip_img['img']\n",
    "\n",
    "\n",
    "for column in clip_cosine_distances_clip.columns[:-1]:\n",
    "    for row in clip_cosine_distances_clip['img']:\n",
    "        if column == row:\n",
    "            clip_cosine_distances_clip[clip_cosine_distances_clip.img==row][column] = 1 - clip_cosine_distances_clip[clip_cosine_distances_clip.img==row][column]\n"
   ]
  },
  {
   "cell_type": "code",
   "execution_count": 85,
   "metadata": {},
   "outputs": [],
   "source": [
    "clip_cosine_distances_clip = clip_cosine_distances_clip[clip_cosine_distances_clip.columns[:-1]]"
   ]
  },
  {
   "cell_type": "code",
   "execution_count": 87,
   "metadata": {},
   "outputs": [
    {
     "data": {
      "text/plain": [
       "0.849562385101111"
      ]
     },
     "execution_count": 87,
     "metadata": {},
     "output_type": "execute_result"
    }
   ],
   "source": [
    "clip_cosine_distances_clip.sum().sum() / (clip_cosine_distances_clip.shape[0] * clip_cosine_distances_clip.shape[1])"
   ]
  },
  {
   "cell_type": "code",
   "execution_count": null,
   "metadata": {},
   "outputs": [],
   "source": [
    "X = np.array(vgg19.iloc [:, 0:512])\n",
    "Y = np.array(universal.iloc [:, 0:512])\n",
    "clip_cosine_distances = pd.DataFrame(cosine_distances(X, Y))\n",
    "clip_cosine_distances.columns = universal['img']\n",
    "clip_cosine_distances['img'] = vgg19['img']\n",
    "\n",
    "\n",
    "for column in clip_cosine_distances.columns[:-1]:\n",
    "    for row in clip_cosine_distances['img']:\n",
    "        if column == row:\n",
    "            clip_cosine_distances[clip_cosine_distances.img==row][column] = 1 - clip_cosine_distances[clip_cosine_distances.img==row][column]\n",
    "            "
   ]
  },
  {
   "cell_type": "code",
   "execution_count": 88,
   "metadata": {},
   "outputs": [],
   "source": [
    "clip_cosine_distances = clip_cosine_distances[clip_cosine_distances.columns[:-1]]"
   ]
  },
  {
   "cell_type": "code",
   "execution_count": 89,
   "metadata": {},
   "outputs": [
    {
     "data": {
      "text/plain": [
       "0.9802419999568649"
      ]
     },
     "execution_count": 89,
     "metadata": {},
     "output_type": "execute_result"
    }
   ],
   "source": [
    "clip_cosine_distances.sum().sum() / (clip_cosine_distances.shape[0] * clip_cosine_distances.shape[1])"
   ]
  },
  {
   "cell_type": "code",
   "execution_count": null,
   "metadata": {},
   "outputs": [],
   "source": [
    "# 0 - вектора равны, 1 - вектора отличаются"
   ]
  }
 ],
 "metadata": {
  "kernelspec": {
   "display_name": "Python 3",
   "language": "python",
   "name": "python3"
  },
  "language_info": {
   "codemirror_mode": {
    "name": "ipython",
    "version": 3
   },
   "file_extension": ".py",
   "mimetype": "text/x-python",
   "name": "python",
   "nbconvert_exporter": "python",
   "pygments_lexer": "ipython3",
   "version": "3.10.6"
  },
  "orig_nbformat": 4
 },
 "nbformat": 4,
 "nbformat_minor": 2
}
