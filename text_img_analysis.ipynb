{
 "cells": [
  {
   "cell_type": "code",
   "execution_count": 1,
   "metadata": {},
   "outputs": [],
   "source": [
    "import pandas as pd"
   ]
  },
  {
   "cell_type": "code",
   "execution_count": 3,
   "metadata": {},
   "outputs": [],
   "source": [
    "resnet50 = pd.read_parquet(path = './img_encodings/resnet50/train_img_encodings_resnet50_0.parquet')\n",
    "xception = pd.read_parquet(path = './img_encodings/xception/train_img_encodings_xception_0.parquet')\n",
    "vgg19 = pd.read_parquet(path = './img_encodings/vgg19/train_img_encodings_vgg19_0.parquet')\n",
    "inceptionv3 = pd.read_parquet(path = './img_encodings/inceptionv3/train_img_encodings_inceptionv3_0.parquet')\n",
    "densenet = pd.read_parquet(path = './img_encodings/densenet/train_img_encodings_densenet_0.parquet')\n",
    "clip = pd.read_parquet(path = './img_encodings/clip/train_img_encodings_clip_0.parquet')"
   ]
  },
  {
   "cell_type": "code",
   "execution_count": null,
   "metadata": {},
   "outputs": [],
   "source": [
    "'''\n",
    "IMGS:\n",
    "512: clip, vgg19\n",
    "1024: densenet\n",
    "2048: inceptionv3, resnet50, xception\n",
    "\n",
    "TEXTS:\n",
    "256: electra, xtremedistil\n",
    "384: minilm\n",
    "512: clip\n",
    "768: gpt2, distilbert\n",
    "'''"
   ]
  },
  {
   "cell_type": "code",
   "execution_count": 26,
   "metadata": {},
   "outputs": [
    {
     "name": "stdout",
     "output_type": "stream",
     "text": [
      "3.950761\n",
      "-9.064992\n",
      "(1000, 513)\n"
     ]
    }
   ],
   "source": [
    "print(clip.iloc [:, 0:512].max().max())\n",
    "print(clip.iloc [:, 0:512].min().min())\n",
    "print(clip.shape)"
   ]
  },
  {
   "cell_type": "code",
   "execution_count": 27,
   "metadata": {},
   "outputs": [
    {
     "name": "stdout",
     "output_type": "stream",
     "text": [
      "9.933483123779297\n",
      "0.0\n",
      "(1000, 1025)\n"
     ]
    }
   ],
   "source": [
    "print(densenet.iloc [:, 0:512].max().max())\n",
    "print(densenet.iloc [:, 0:512].min().min())\n",
    "print(densenet.shape)"
   ]
  },
  {
   "cell_type": "code",
   "execution_count": 28,
   "metadata": {},
   "outputs": [
    {
     "name": "stdout",
     "output_type": "stream",
     "text": [
      "8.31037712097168\n",
      "0.0\n",
      "(1000, 2049)\n"
     ]
    }
   ],
   "source": [
    "print(inceptionv3.iloc [:, 0:512].max().max())\n",
    "print(inceptionv3.iloc [:, 0:512].min().min())\n",
    "print(inceptionv3.shape)"
   ]
  },
  {
   "cell_type": "code",
   "execution_count": 29,
   "metadata": {},
   "outputs": [
    {
     "name": "stdout",
     "output_type": "stream",
     "text": [
      "106.90817260742188\n",
      "0.0\n",
      "(1000, 513)\n"
     ]
    }
   ],
   "source": [
    "print(vgg19.iloc [:, 0:512].max().max())\n",
    "print(vgg19.iloc [:, 0:512].min().min())\n",
    "print(vgg19.shape)"
   ]
  },
  {
   "cell_type": "code",
   "execution_count": 30,
   "metadata": {},
   "outputs": [
    {
     "name": "stdout",
     "output_type": "stream",
     "text": [
      "31.38226890563965\n",
      "0.0\n",
      "(1000, 2049)\n"
     ]
    }
   ],
   "source": [
    "print(resnet50.iloc [:, 0:512].max().max())\n",
    "print(resnet50.iloc [:, 0:512].min().min())\n",
    "print(resnet50.shape)"
   ]
  },
  {
   "cell_type": "code",
   "execution_count": 31,
   "metadata": {},
   "outputs": [
    {
     "name": "stdout",
     "output_type": "stream",
     "text": [
      "4.44807767868042\n",
      "0.0\n",
      "(1000, 2049)\n"
     ]
    }
   ],
   "source": [
    "print(xception.iloc [:, 0:512].max().max())\n",
    "print(xception.iloc [:, 0:512].min().min())\n",
    "print(xception.shape)"
   ]
  },
  {
   "cell_type": "code",
   "execution_count": 42,
   "metadata": {},
   "outputs": [],
   "source": [
    "distilbert = pd.read_parquet(path = './text_encodings/distilbert/train_text_encodings_distilbert_0.parquet')\n",
    "minilm = pd.read_parquet(path = './text_encodings/minilm/train_text_encodings_minilm_0.parquet')\n",
    "xtremedistil = pd.read_parquet(path = './text_encodings/xtremedistil/train_text_encodings_xtremedistil_0.parquet')\n",
    "gpt2 = pd.read_parquet(path = './text_encodings/gpt2/train_text_encodings_gpt2_0.parquet')\n",
    "electra = pd.read_parquet(path = './text_encodings/electra/train_text_encodings_electra_0.parquet')\n",
    "clip = pd.read_parquet(path = './text_encodings/clip_ViT_B_32/train_text_encodings_clip_ViT_B_32_0.parquet')"
   ]
  },
  {
   "cell_type": "code",
   "execution_count": 50,
   "metadata": {},
   "outputs": [
    {
     "name": "stdout",
     "output_type": "stream",
     "text": [
      "8.4834385\n",
      "-4.411825\n",
      "(5002, 514)\n"
     ]
    }
   ],
   "source": [
    "print(clip.iloc [:, 0:512].max().max())\n",
    "print(clip.iloc [:, 0:512].min().min())\n",
    "print(clip.shape)\n"
   ]
  },
  {
   "cell_type": "code",
   "execution_count": 45,
   "metadata": {},
   "outputs": [
    {
     "name": "stdout",
     "output_type": "stream",
     "text": [
      "829230.0\n",
      "-0.6299756169319153\n",
      "(5002, 258)\n"
     ]
    }
   ],
   "source": [
    "print(electra.iloc [:, 0:512].max().max())\n",
    "print(electra.iloc [:, 0:512].min().min())\n",
    "print(electra.shape)\n"
   ]
  },
  {
   "cell_type": "code",
   "execution_count": 46,
   "metadata": {},
   "outputs": [
    {
     "name": "stdout",
     "output_type": "stream",
     "text": [
      "0.7791497111320496\n",
      "-0.23111845552921295\n",
      "(5002, 770)\n"
     ]
    }
   ],
   "source": [
    "print(gpt2.iloc [:, 0:512].max().max())\n",
    "print(gpt2.iloc [:, 0:512].min().min())\n",
    "print(gpt2.shape)\n"
   ]
  },
  {
   "cell_type": "code",
   "execution_count": 47,
   "metadata": {},
   "outputs": [
    {
     "name": "stdout",
     "output_type": "stream",
     "text": [
      "829230.0\n",
      "-0.22818617522716522\n",
      "(5002, 258)\n"
     ]
    }
   ],
   "source": [
    "print(xtremedistil.iloc [:, 0:512].max().max())\n",
    "print(xtremedistil.iloc [:, 0:512].min().min())\n",
    "print(xtremedistil.shape)\n"
   ]
  },
  {
   "cell_type": "code",
   "execution_count": 48,
   "metadata": {},
   "outputs": [
    {
     "name": "stdout",
     "output_type": "stream",
     "text": [
      "829230.0\n",
      "-0.27517467737197876\n",
      "(5002, 386)\n"
     ]
    }
   ],
   "source": [
    "print(minilm.iloc [:, 0:512].max().max())\n",
    "print(minilm.iloc [:, 0:512].min().min())\n",
    "print(minilm.shape)\n"
   ]
  },
  {
   "cell_type": "code",
   "execution_count": 49,
   "metadata": {},
   "outputs": [
    {
     "name": "stdout",
     "output_type": "stream",
     "text": [
      "0.29666316509246826\n",
      "-0.25308531522750854\n",
      "(5002, 770)\n"
     ]
    }
   ],
   "source": [
    "print(distilbert.iloc [:, 0:512].max().max())\n",
    "print(distilbert.iloc [:, 0:512].min().min())\n",
    "print(distilbert.shape)\n",
    "\n"
   ]
  }
 ],
 "metadata": {
  "kernelspec": {
   "display_name": "Python 3",
   "language": "python",
   "name": "python3"
  },
  "language_info": {
   "codemirror_mode": {
    "name": "ipython",
    "version": 3
   },
   "file_extension": ".py",
   "mimetype": "text/x-python",
   "name": "python",
   "nbconvert_exporter": "python",
   "pygments_lexer": "ipython3",
   "version": "3.10.6"
  },
  "orig_nbformat": 4
 },
 "nbformat": 4,
 "nbformat_minor": 2
}
